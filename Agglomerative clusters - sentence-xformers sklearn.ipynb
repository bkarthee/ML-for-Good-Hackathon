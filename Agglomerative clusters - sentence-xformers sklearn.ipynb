{
 "cells": [
  {
   "cell_type": "code",
   "execution_count": 1,
   "id": "4cf497f6",
   "metadata": {},
   "outputs": [],
   "source": [
    "# based on sentence transformer from here: https://github.com/UKPLab/sentence-transformers/blob/master/examples/applications/clustering/kmeans.py\n",
    "\n",
    "import pandas as pd\n",
    "\n",
    "df = pd.read_csv('Data/CrisisLogger/crisislogger.csv')\n",
    "new_df=df.drop(columns='upload_id').rename(columns={'transcriptions':'DATA_COLUMN'})\n",
    "new_df.insert(0, 'LABEL_COLUMN', 0)\n",
    "corpus = new_df['DATA_COLUMN'].to_numpy()"
   ]
  },
  {
   "cell_type": "code",
   "execution_count": 7,
   "id": "060db503",
   "metadata": {},
   "outputs": [
    {
     "data": {
      "application/vnd.jupyter.widget-view+json": {
       "model_id": "3062f8a9d6744915a3201d95c494ad84",
       "version_major": 2,
       "version_minor": 0
      },
      "text/plain": [
       "Downloading:   0%|          | 0.00/737 [00:00<?, ?B/s]"
      ]
     },
     "metadata": {},
     "output_type": "display_data"
    },
    {
     "data": {
      "application/vnd.jupyter.widget-view+json": {
       "model_id": "076c5a3c230e4a01a33aba3834aab454",
       "version_major": 2,
       "version_minor": 0
      },
      "text/plain": [
       "Downloading:   0%|          | 0.00/9.86k [00:00<?, ?B/s]"
      ]
     },
     "metadata": {},
     "output_type": "display_data"
    },
    {
     "data": {
      "application/vnd.jupyter.widget-view+json": {
       "model_id": "340404ea07f548468c6d0d5960ad03ad",
       "version_major": 2,
       "version_minor": 0
      },
      "text/plain": [
       "Downloading:   0%|          | 0.00/653 [00:00<?, ?B/s]"
      ]
     },
     "metadata": {},
     "output_type": "display_data"
    },
    {
     "data": {
      "application/vnd.jupyter.widget-view+json": {
       "model_id": "63e3c17d8b514b6da8d2173fb86a34fc",
       "version_major": 2,
       "version_minor": 0
      },
      "text/plain": [
       "Downloading:   0%|          | 0.00/116 [00:00<?, ?B/s]"
      ]
     },
     "metadata": {},
     "output_type": "display_data"
    },
    {
     "data": {
      "application/vnd.jupyter.widget-view+json": {
       "model_id": "914bce9aa8c245608955357f52699f23",
       "version_major": 2,
       "version_minor": 0
      },
      "text/plain": [
       "Downloading:   0%|          | 0.00/15.7k [00:00<?, ?B/s]"
      ]
     },
     "metadata": {},
     "output_type": "display_data"
    },
    {
     "data": {
      "application/vnd.jupyter.widget-view+json": {
       "model_id": "d4e4c83b9db3436c863b67e0eae7b422",
       "version_major": 2,
       "version_minor": 0
      },
      "text/plain": [
       "Downloading:   0%|          | 0.00/456k [00:00<?, ?B/s]"
      ]
     },
     "metadata": {},
     "output_type": "display_data"
    },
    {
     "data": {
      "application/vnd.jupyter.widget-view+json": {
       "model_id": "86f5b241d88347fa99c68456095f0f9a",
       "version_major": 2,
       "version_minor": 0
      },
      "text/plain": [
       "Downloading:   0%|          | 0.00/349 [00:00<?, ?B/s]"
      ]
     },
     "metadata": {},
     "output_type": "display_data"
    },
    {
     "data": {
      "application/vnd.jupyter.widget-view+json": {
       "model_id": "a5d65dbad14f4909af61c05a1f644bf6",
       "version_major": 2,
       "version_minor": 0
      },
      "text/plain": [
       "Downloading:   0%|          | 0.00/329M [00:00<?, ?B/s]"
      ]
     },
     "metadata": {},
     "output_type": "display_data"
    },
    {
     "data": {
      "application/vnd.jupyter.widget-view+json": {
       "model_id": "703996d471864ddf8833b3f1e673e35e",
       "version_major": 2,
       "version_minor": 0
      },
      "text/plain": [
       "Downloading:   0%|          | 0.00/53.0 [00:00<?, ?B/s]"
      ]
     },
     "metadata": {},
     "output_type": "display_data"
    },
    {
     "data": {
      "application/vnd.jupyter.widget-view+json": {
       "model_id": "a65a4311862c4cc0ba85da7bb45fa6c0",
       "version_major": 2,
       "version_minor": 0
      },
      "text/plain": [
       "Downloading:   0%|          | 0.00/239 [00:00<?, ?B/s]"
      ]
     },
     "metadata": {},
     "output_type": "display_data"
    },
    {
     "data": {
      "application/vnd.jupyter.widget-view+json": {
       "model_id": "feb83246d5cf479480e2723c0998b2e2",
       "version_major": 2,
       "version_minor": 0
      },
      "text/plain": [
       "Downloading:   0%|          | 0.00/1.36M [00:00<?, ?B/s]"
      ]
     },
     "metadata": {},
     "output_type": "display_data"
    },
    {
     "data": {
      "application/vnd.jupyter.widget-view+json": {
       "model_id": "d0a3e14bc0fc42bdbbc2f327663dc0b0",
       "version_major": 2,
       "version_minor": 0
      },
      "text/plain": [
       "Downloading:   0%|          | 0.00/333 [00:00<?, ?B/s]"
      ]
     },
     "metadata": {},
     "output_type": "display_data"
    },
    {
     "data": {
      "application/vnd.jupyter.widget-view+json": {
       "model_id": "fbf180a0eeb545fda14892e43699aed5",
       "version_major": 2,
       "version_minor": 0
      },
      "text/plain": [
       "Downloading:   0%|          | 0.00/13.1k [00:00<?, ?B/s]"
      ]
     },
     "metadata": {},
     "output_type": "display_data"
    },
    {
     "data": {
      "application/vnd.jupyter.widget-view+json": {
       "model_id": "0b632b47489e4d9393778bd48d28338f",
       "version_major": 2,
       "version_minor": 0
      },
      "text/plain": [
       "Downloading:   0%|          | 0.00/798k [00:00<?, ?B/s]"
      ]
     },
     "metadata": {},
     "output_type": "display_data"
    },
    {
     "data": {
      "application/vnd.jupyter.widget-view+json": {
       "model_id": "231231ce95254e0f95479f55dc37a283",
       "version_major": 2,
       "version_minor": 0
      },
      "text/plain": [
       "Downloading:   0%|          | 0.00/190 [00:00<?, ?B/s]"
      ]
     },
     "metadata": {},
     "output_type": "display_data"
    }
   ],
   "source": [
    "from sentence_transformers import SentenceTransformer\n",
    "from sklearn.cluster import AgglomerativeClustering\n",
    "import numpy as np\n",
    "\n",
    "# models explained here: https://www.sbert.net/docs/pretrained_models.html\n",
    "# embedder = SentenceTransformer('all-MiniLM-L6-v2')\n",
    "embedder = SentenceTransformer('all-distilroberta-v1')\n",
    "\n",
    "corpus_embeddings = embedder.encode(corpus)"
   ]
  },
  {
   "cell_type": "code",
   "execution_count": 8,
   "id": "92139211",
   "metadata": {},
   "outputs": [],
   "source": [
    "\n",
    "# Normalize the embeddings to unit length\n",
    "corpus_embeddings = corpus_embeddings /  np.linalg.norm(corpus_embeddings, axis=1, keepdims=True)\n",
    "\n",
    "# Perform agglomerative clustering\n",
    "clustering_model = AgglomerativeClustering(n_clusters=None, distance_threshold=1.5) #, affinity='cosine', linkage='average', distance_threshold=0.4)\n",
    "clustering_model.fit(corpus_embeddings)\n",
    "cluster_assignment = clustering_model.labels_\n"
   ]
  },
  {
   "cell_type": "code",
   "execution_count": 9,
   "id": "3f679aa0",
   "metadata": {},
   "outputs": [],
   "source": [
    "\n",
    "clustered_sentences = {}\n",
    "for sentence_id, cluster_id in enumerate(cluster_assignment):\n",
    "    if cluster_id not in clustered_sentences:\n",
    "        clustered_sentences[cluster_id] = []\n",
    "\n",
    "    clustered_sentences[cluster_id].append(corpus[sentence_id])\n"
   ]
  },
  {
   "cell_type": "code",
   "execution_count": 11,
   "id": "59ddc480",
   "metadata": {},
   "outputs": [
    {
     "name": "stdout",
     "output_type": "stream",
     "text": [
      "Total clusters = 15\n",
      "Cluster  7 , size = 16\n",
      "so high our experience so far has been a little bit difficult when you have a teenage child that is stuck in the house for five to six weeks so far I mean homeschooling you know but her friends has been very hard to see them when you see them on FaceTime working from home is difficult or so after what I was wearing on you I wouldn't mind working from home maybe twice a week every day for six days at 6 weeks if that's difficult communicating it's it's just it's a very hard thing but I think it's been harder on my teenage daughter more she's more seems more secluded now and not as happy and I have to go outside and walk the dog occasionally so she can get fresh air and feel like she's able to do something I encouraged her to work but everyone needs some physical contact just to be around people I mean it's just nature but will hopefully get well soon and hopefully everything will be back to normal again hopefully everyone can stay healthy and safe\n",
      "\n",
      "Cluster  5 , size = 15\n",
      "I'm not going to stay in my name for the anonymity but I am in my mid-forties remotely working from home working for a private Institution my world became very very active lately because of the market conditions and there are more demands and more work required for me to spend less time with my children when they need me I have three children I have a 5th grader ten-year-old I have a third grader a year a three year old and I have a Pre-K 3 4 year old my husband lost his King Kong because the service is not honor are not essential and therefore he's basically home yet he's a double or person who needs to be in the field and it became very frustrating on Olive my children are confused frightened their mental state is not as well because they're hostile we are living in a 650 square feet Apartment 2 bedroom and combine living room with the letter kitchenette that living species was fine with us for us in the past because children were doing all kinds of activities soccer running swimming and being constantly outdoorsy all of the discount now my oldest one is independent but he became depressed it doesn't move much in the morning we need to push him out of his bad to where he's doing his homework so he can stretch out a little bit my middle one he's the fidget one he's the one with ADHD he's not able to focus he's constantly finding toys for himself to play as opposed to doing his school work my husband needs to spend time next to him and constantly cure him back into the school work did my husband is not a teacher and english-as-a-second-language he doesn't even have a college degree I'm not able to spend any time educating my child because if I do not be if I'm not focused on my work I will lose my job and the only source of income for our survival my youngest one is basically being put in front of the TV so he doesn't bother my other two children who need to do the school work when he becomes tired of the TV then he starts teasing my other children where he becomes becomes very loud he throws the Tantrums he doesn't want to eat he's just looking for a Suites to suit him down and basically every day he's asking when he's going back to school and why he needs to stay at home all my children were used to do a routine going to school and literally running through the school yard and looking forward to meeting with their friends and learning something new every day in school in the social environment they enjoyed playing in the schoolyard after school and going into their activity everything was taken away from us I would like this lock sound be over I would want for our country to be opened as soon as possible and as an example looking at them Sweden who took the other way around exposing their Nation to the virus in a natural way in developing the immunity I understand the available in elderly needs to be protected and separated but for us and the children were not at risk they should go to school and an end have their mental state be looked at because this is Yvonne president and on them thank you very much for listening\n",
      "\n",
      "Cluster  13 , size = 5\n",
      "so far I have been florentines now for about a month-and-a-half and it's been tough there seems to be I mean I've been in here in New York and it's been a pretty desperate situation it's been difficult to feel like I can provide some help at all and it kind of seems I feel somewhat helpless however following the news has been it's actually been pretty depressing it's been difficult to follow up and trying to stay away from the news I'm just to try to maintain more hope and try to keep myself removed from the date day of the the virus in the crisis as I don't in feeling that I I can't really help all that much I don't feel like there's any utility in my following the news religiouslybut that being said I have seen you know some hopeful stories from people and seen some some nice things that have enough kind of helped out through the crisis and it's it feels like people are coming together and in a certain way and I hope that people are kind of are realizing that things are unfair in life and in the way that our society works and that's that they don't need to be unfair that we can that this is something that that can be fixed and I hope that that's that's happening however I have my doubts and I worry thatwe'll come out of this is the further entrenchment of class and moneyed interests and in the further entrenchment of the disparity between the ruling in the wealthy class and the rest of us I'm however I also have hope that this is going to kind of wake people up in that this will be the impetus for major social change as it has in the past and I hope so I am hopeful for that however I know that there's is a lot sitting in the way of that sin a lot that. That could prevent that and that's scary because moving forward from this I think that's this thing's could only things can get much worse going forward and I think that the entrenchment of capital and of money to interest will continue and what will consolidate even further as a result of this and if it does then it's going to be even harder to break through that but we're able to to move past that into to wake up and establish a collective conscience and among working people and I think that we can make it through this\n",
      "\n",
      "Cluster  8 , size = 14\n",
      "so this whole situation has been strange for us we feel very lucky because while we've been laid off or unemployment has with the additional money coming in at least been close to what we were used to making so we're not feeling the strain financially as some of our friends and family are and we're very grateful for that however I think right now because we can stay at homeour biggest fear is what comes next right now we're not scared that we're going to get sick because we are following the guidelines and staying home as much as possible but what worries us is what the world looks like next what the next steps are it makes me nervous to have to send the kids back to school and it makes me nervous to know what it'll be look like going back to work I work as a server in a restaurant and I'm not only worried about what it'll be like workingit in a restaurant during the aftermath of covid-19 but also financially what that'll look like and what our world in general will look like so while we feel lucky at the moment we also feel a little bit stressed out about what the future holds\n",
      "\n",
      "Cluster  15 , size = 9\n",
      "My fear is that my son will be emotionally impacted by the virus. I worry that he could develop fears associated with this. I fear for my loved ones who tested positive and pray that they will get better. I am scared to take my children outside especially now that the Kawasaki disease is linked to corona virus in children. What has been getting me through this is volunteering as a crisis counselor and taking two long walks a week while covering my face with a mask. I hope and pray we survive this pandemic and can go back to a safer new normal.\n",
      "\n",
      "Cluster  4 , size = 7\n",
      "Teachers are struggling to support students remotely. This introduces challenges in preparing educational materials that translate from the classroom to a computer, and competing with the distractions they and their students face at home.\n",
      "\n",
      "Cluster  1 , size = 12\n",
      "I personally hate Distance Learning. I hate that I am missing my 8th grade graduation, I hate that I am missing all of these fun activities that we do at the end of the year, such as Hamilton, Great America, etc. It sucks that I cannot interact with my friends. I Zoom call, but it is not the same. COVID is nobody's friend, but despite how much I have, I still complain to my friend, who has her own issues going on, on top of listening to my issues. But she listens nevertheless, and reassures me...I feel like there is something she isn't telling me-she has been pretty distant with her text messages lately. So I worry for her, I worry for myself and my family, I worry for all pf the frontline workers. This whole thing sucks, but I know it is much better than the alternative.\n",
      "\n",
      "Cluster  2 , size = 10\n",
      "I feel anxious often and unsure about my abilities as a teacher to meet the needs of my students in this new virtual setting. I see parents struggling with their new roles of trying to manage their childrens studies, work and continue keeping the household together. I struggle to keep up with learning all of the new technology necessary for our changing world. I wonder if I am doing enough. I find it hard to communicate on zoom sometimes. I miss the classroom and being surrounded by children. I became a teacher because I love children. I love to be around them. I feel invigorated by their excitement for life and the wonder they have for learning. I see my students struggling. They miss their school. They miss their friends. I have learned a lot through the pandemic. I have learned how strong we all are and how creative and innovative we can be. I have learned to collaborate and the importance of sharing our feelings. I feell uncertain about the future. But I am certain I will continue to support families and children as we get through this together.\n",
      "\n",
      "Cluster  12 , size = 6\n",
      "The ambiguity surrounding this virus creates amxiety, confusion and irritation. When will schools open? Will there be a vaccine? Could a second wave happen next school year? I think schools and the government have to be as clear as possible and inform better. Communication builds comfort.\n",
      "\n",
      "Cluster  3 , size = 12\n",
      "This quarantine is so difficult for teenagers, who should be learning how to be independent young adults but instead are stuck at home with families. What I have not seen addressed is how especially difficult it is for only children. They are all alone with their parents. No other kids to interact with or break the monotony. A school guidance counselor suggested virtual hangouts, but my teen finds that a very poor substitute for spending time with friends. I would appreciate it if someone would address how being an only child increases the isolation of these difficult days.\n",
      "\n",
      "Cluster  10 , size = 12\n",
      "Trying to work with focus while feeling guilty that my daughter isn’t being mentally stimulated enough, without schooling.\n",
      "\n",
      "Cluster  11 , size = 4\n",
      "I'm an expat working in Malaysia. Now I can't go back to my country and don't know when I can. My boyfriend can't visit me here also. I can go out theoretically but if I do go, I have to go through 14 days quarantine in Thailand. It's impossible for me to do so. 14 days are greater than my annual leave quota. I miss him so bad.\n",
      "\n",
      "Cluster  6 , size = 4\n",
      "screen and now I'm going to do a test for Harold let's see if that this transcribes and creates a word cloud cloud cloud cloud cloud test for Harold Harold Harold Harold\n",
      "\n",
      "Cluster  14 , size = 7\n",
      "right so how are we getting through the Kobe crisis well we have each other my wife Sue 23 years my son Mills of 17 going on I'm getting he's a rebellion but not as badly as he was maybe last year and he oddly enough is one of the few surviving is the best because he's used he likes the computer he lives his life there on YouTube and he likes interacting with people these read the protection prophylaxis of the internet anyway so we're okay where were here in New York we could go to our summer home in Massachusetts but without a test we feel like that would be a profit so we're here and and I'm surviving partly through poetry I know that sounds really weird but poetry is saved my life a lot of times WNYC had a contrast contest called what a difference a month makes and so I was assigned that for some of my students I teach in a high needs Public School in Jamaica Queens and I gave that as an optional assignment for my kids to write a poem I'm just talk about how they were feeling and dealing with the Kobe crisis and you own the truth is I'm not okay the the study Sirens outside the house 40,000 dead now they come to me at night and I'm my dreams and my I'm just psychically in some sort of weird place but I guess it that's dramatic and not real and not what other people are living with witches a lot so anyway I did write a poem it did help me and and I know it's a few now it's it's called the row row or what a month a different snakes I used to argue with Elliot and his money line about April being the cruelest month after all don't November and February call for cold consideration but this April this calling by drowning in your own blood April this viral dying alone April this false flattening April uncured and uncurved this invisible droplet murderer this isolation at all costs a dozen eggs killing a nice lady at the grocery store April is skin cracked so be handed masked up month of threats stolen breaths outside with refrigerated trucks out back of ER Josh behind bars in our own Apartments but I love you Dad as you lose your mind from 2000 miles and 6 feet away I know you're sad quarantined in the condo with Mom on lockdown and I too am too low for not seeing you or the Cherry now that's hung with Blossom on the bow another poets creeping in two coat quote three such writers is a literary win but white tents replicate like a virus like spores everyone's afraid to go in stores while my colleagues struggling to breathe empty their own lungs at home with incentive spirometers I'm hurting smile what's not about this April while in my head I'm way too sad to sing instead bring something for Easter from the kitchen to the hallway and in a small way we need celebrate a reborn and he'd the CDC warning us to keep it together by keeping it apart the weather's unnaturally wet and cold I start to rhyme and vein anyway as my bride of old says rain resignedly April showers bring May horse is what we don't say but we do not cry or bow down now to the king of desolation crowning this versus the siren of another her swales past the window of our sliver of Broadway oh so empty now the loneliest of cities just became more lonely somehow because of the corona insta kids be calling it the row row a tiny unseeable wicked witch witch to misquote get colder poet with apologies in my defense a virus that has made all the difference no old-time Roanoke electrical mistakes April what months of different snakes oh yeah that's my phone the row row which was featured on NPR a couple days ago by a really cool reporter named dumb shumita Basu WNYC anyway I just thought I'd share that cuz it does capture a lot of what I'm feeling I can't be with my family in Minnesota my mom and dad are on lockdown in a condo having left their home a 60 years just a couple months ago my dad suddenly having a steep decline in I mean the acceleration in his dementia show\n",
      "\n",
      "Cluster  9 , size = 7\n",
      "hi so my name is Jane and I have a son who's a first-year student at Elon University he's 18 years old and unfortunately he's home because of the virus and where I thought he would really be very upset because he was so incredibly involved with the school lots of friends a girlfriend he also did a lot of extracurricular activities as well as he has a job on campus for he is a tour guide but surprisingly he's been very dedicated to his studies he does his online courses he even goes the extra yard and learns additional things for school he's applying for a scholarship at the University and he still surprisingly getting paid by the university and doing virtual tours and so I think he's very pleased about that and he's actually surprisinglyreally being very productive and very positive during the day he does his school work and then in the evening we have dinner together as a family the two of us and we talked about our day because during the day we're sort of like two ships passing in the night I'm very busy with my illustration work and we doing to do list it'll knock your nose off and in the evening we get together and we talked about our day and that's been you know very nice she regularly runs now every day and then at the end of our dinner we sort of wrap it up and I'll get to my own things and walk the dog in that sort of thing and he gets on the phone with all of his Elon college friends and I can hear him just laughing and having a great time for hours on end in a while I'm going to bed in the evening so I would saysurprisingly he's doing very well he does not see an end of this in anytime which is unfortunate I think he does have a lot of remorse as to his first year of college and all the parties and dances that we're going to happen this spring and sporting events and just all of these wonderful opportunities that are now lost but you know he is making the best of it and in fact per his request through taking a drive into Manhattan and we're going to the rockaways and we're going all over just to see how desolate area is and unlike some of his friends were I've heard that kind of snuck out of the house to go do things with their friends he's been exceptional at Social distancing and taking it all very seriouslyand that's it he also has his regular therapy sessions with his therapist but via I guess phone conversation so that's every other week cuz there's not a lot happening and so he's keeping up with his mental health and yeah I just I just really hope he and his friends and all these kids can get back to school in the fall I think we're adults like myself I think we can pretty much cope and manage very well I think it's a real great Interruption and young people's lives and yeah I guess that's it always is pretty well and making the best of a bad situation isn't it thanks\n",
      "\n"
     ]
    }
   ],
   "source": [
    "print(\"Total clusters =\", len(clustered_sentences))\n",
    "for i, cluster in clustered_sentences.items():\n",
    "    print(\"Cluster \", i+1, \", size =\", len(cluster))\n",
    "    print(cluster[0])\n",
    "    print(\"\")"
   ]
  },
  {
   "cell_type": "code",
   "execution_count": null,
   "id": "9c3a980a",
   "metadata": {},
   "outputs": [],
   "source": []
  }
 ],
 "metadata": {
  "kernelspec": {
   "display_name": "Python 3 (ipykernel)",
   "language": "python",
   "name": "python3"
  },
  "language_info": {
   "codemirror_mode": {
    "name": "ipython",
    "version": 3
   },
   "file_extension": ".py",
   "mimetype": "text/x-python",
   "name": "python",
   "nbconvert_exporter": "python",
   "pygments_lexer": "ipython3",
   "version": "3.8.5"
  }
 },
 "nbformat": 4,
 "nbformat_minor": 5
}
