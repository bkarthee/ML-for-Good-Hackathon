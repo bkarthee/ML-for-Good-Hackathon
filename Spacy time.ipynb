{
 "cells": [
  {
   "cell_type": "code",
   "execution_count": 1,
   "id": "6ce574f8",
   "metadata": {},
   "outputs": [
    {
     "name": "stderr",
     "output_type": "stream",
     "text": [
      "2021-11-23 10:42:46.825532: W tensorflow/stream_executor/platform/default/dso_loader.cc:64] Could not load dynamic library 'libcudart.so.11.0'; dlerror: libcudart.so.11.0: cannot open shared object file: No such file or directory\n",
      "2021-11-23 10:42:46.825558: I tensorflow/stream_executor/cuda/cudart_stub.cc:29] Ignore above cudart dlerror if you do not have a GPU set up on your machine.\n"
     ]
    }
   ],
   "source": [
    "# refer here: http://robertorocha.info/using-nlp-to-analyze-open-ended-responses-in-surveys/\n",
    "import spacy\n",
    "nlp = spacy.load(\"en_core_web_sm\")\n",
    "nlp.max_length = 1850000\n",
    "\n",
    "import pandas as pd\n",
    "df = pd.read_csv('Data/CrisisLogger/crisislogger.csv')\n",
    "new_df=df.drop(columns='upload_id').rename(columns={'transcriptions':'DATA_COLUMN'})\n",
    "corpus = new_df['DATA_COLUMN']"
   ]
  },
  {
   "cell_type": "code",
   "execution_count": 2,
   "id": "2b9b6c5b",
   "metadata": {},
   "outputs": [],
   "source": [
    "\n",
    "all_text = corpus.str.cat(sep=' ')"
   ]
  },
  {
   "cell_type": "code",
   "execution_count": 4,
   "id": "34fa3d0c",
   "metadata": {},
   "outputs": [],
   "source": [
    "doc = nlp(all_text, disable = ['ner'])"
   ]
  },
  {
   "cell_type": "code",
   "execution_count": 5,
   "id": "3558b545",
   "metadata": {},
   "outputs": [
    {
     "data": {
      "text/plain": [
       "[('know', 285),\n",
       " ('time', 185),\n",
       " ('like', 183),\n",
       " ('go', 173),\n",
       " ('school', 171),\n",
       " ('work', 164),\n",
       " ('think', 139),\n",
       " ('home', 131),\n",
       " ('thing', 122),\n",
       " ('feel', 105),\n",
       " ('child', 103),\n",
       " ('family', 100),\n",
       " ('day', 97),\n",
       " ('lot', 89),\n",
       " ('kid', 87),\n",
       " ('friend', 86),\n",
       " ('year', 84),\n",
       " ('get', 78),\n",
       " ('people', 77),\n",
       " ('need', 75)]"
      ]
     },
     "execution_count": 5,
     "metadata": {},
     "output_type": "execute_result"
    }
   ],
   "source": [
    "# overall word frequency analysis\n",
    "\n",
    "from collections import Counter\n",
    "words = [token.lemma_ for token in doc if not token.is_stop and not token.is_punct] \n",
    "word_freq = Counter(words) \n",
    "word_freq.most_common(20)"
   ]
  },
  {
   "cell_type": "code",
   "execution_count": 6,
   "id": "48d62d3d",
   "metadata": {},
   "outputs": [
    {
     "data": {
      "text/plain": [
       "[('little bit', 19),\n",
       " ('mental health', 18),\n",
       " ('high school', 14),\n",
       " ('next year', 11),\n",
       " ('other people', 7),\n",
       " ('5th grader', 6),\n",
       " ('same time', 6),\n",
       " ('biggest fear', 5),\n",
       " ('front lines', 5),\n",
       " ('more time', 5),\n",
       " ('last time', 5),\n",
       " ('much time', 5),\n",
       " ('fresh air', 4),\n",
       " ('difficult time', 4),\n",
       " ('last year', 4),\n",
       " ('immediate family', 4),\n",
       " ('older son', 4),\n",
       " ('social media', 4),\n",
       " ('biggest fears', 4),\n",
       " ('many people', 4),\n",
       " ('different ways', 4),\n",
       " ('other children', 3),\n",
       " ('8th grade', 3),\n",
       " ('second wave', 3),\n",
       " ('only child', 3),\n",
       " ('many ways', 3),\n",
       " ('single mother', 3),\n",
       " ('few months', 3),\n",
       " ('few people', 3),\n",
       " ('public school', 3)]"
      ]
     },
     "execution_count": 6,
     "metadata": {},
     "output_type": "execute_result"
    }
   ],
   "source": [
    "# what are the most common adjective-noun phrases?\n",
    "\n",
    "from spacy.matcher import Matcher \n",
    "matcher = Matcher(nlp.vocab) \n",
    "pattern = [{'POS':'ADJ'}, {'POS':'NOUN'}] \n",
    "matcher.add('ADJ_PHRASE', [pattern]) \n",
    "matches = matcher(doc, as_spans=True) \n",
    "phrases = [] \n",
    "for span in matches:\n",
    "    phrases.append(span.text.lower())\n",
    "    phrase_freq = Counter(phrases)\n",
    "phrase_freq.most_common(30)"
   ]
  },
  {
   "cell_type": "code",
   "execution_count": 7,
   "id": "124b8255",
   "metadata": {},
   "outputs": [
    {
     "data": {
      "text/plain": [
       "[('worried', 16),\n",
       " ('lucky', 9),\n",
       " ('grateful', 9),\n",
       " ('sure', 9),\n",
       " ('scared', 8),\n",
       " ('little', 8),\n",
       " ('able', 7),\n",
       " ('okay', 6),\n",
       " ('healthy', 5),\n",
       " ('sad', 4),\n",
       " ('fortunate', 4),\n",
       " ('concerned', 4),\n",
       " ('glad', 4),\n",
       " ('thankful', 3),\n",
       " ('angry', 3),\n",
       " ('single', 3),\n",
       " ('mental', 3),\n",
       " ('frustrated', 3),\n",
       " ('happy', 3),\n",
       " ('good', 3)]"
      ]
     },
     "execution_count": 7,
     "metadata": {},
     "output_type": "execute_result"
    }
   ],
   "source": [
    "# The most common adjective that follow the phrase “I am” or “I feel”\n",
    "\n",
    "feel_adj = []\n",
    "matcher = Matcher(nlp.vocab)\n",
    "pattern = [{'LOWER' : {'IN' : ['i', 'we']}}, {'OP': '?'}, \n",
    "  {'LOWER': {'IN' : ['feel', 'am', \"'m\", 'are', \"'re\"]}}, \n",
    "  {'OP': '?'}, {'OP': '?'}, {'POS':'ADJ'}]\n",
    "matcher.add(\"FeelAdj\", [pattern]) \n",
    "matches = matcher(doc, as_spans=True) \n",
    "for span in matches:\n",
    "    feel_adj.extend([token.lemma_ for token in span if token.pos_ == 'ADJ'])\n",
    "Counter(feel_adj).most_common(20)"
   ]
  },
  {
   "cell_type": "code",
   "execution_count": 13,
   "id": "4bf2d8a5",
   "metadata": {},
   "outputs": [
    {
     "data": {
      "text/plain": [
       "[I would want for our country,\n",
       " I need a break,\n",
       " I just want alone time,\n",
       " we need celebrate a reborn,\n",
       " we definitely need some time,\n",
       " we need strength,\n",
       " I need the biggest struggle,\n",
       " I want to my in,\n",
       " I want number,\n",
       " I want the schools]"
      ]
     },
     "execution_count": 13,
     "metadata": {},
     "output_type": "execute_result"
    }
   ],
   "source": [
    "# looks for phrases that start with “I/we want/need”, followed by a noun, with optional filler words in between\n",
    "\n",
    "want_adj = []\n",
    "matcher = Matcher(nlp.vocab) \n",
    "pattern = [{'LOWER' : {'IN' : ['i', 'we']}}, {'IS_ALPHA':True, 'OP':'?'},\n",
    "   {'LOWER': {'IN' : ['need', 'want']}}, {'IS_ALPHA':True, 'OP':'?'},\n",
    "   {'IS_ALPHA':True, 'OP':'?'}, {'POS':'NOUN'}]\n",
    "   \n",
    "matcher.add(\"WantPhrase\", [pattern]) \n",
    "matches = matcher(doc, as_spans=True)\n",
    "matches\n",
    "\n"
   ]
  },
  {
   "cell_type": "code",
   "execution_count": 15,
   "id": "cf6ce8d3",
   "metadata": {},
   "outputs": [
    {
     "data": {
      "text/plain": [
       "[('worry', 26),\n",
       " ('time', 5),\n",
       " ('family', 4),\n",
       " ('know', 3),\n",
       " ('fear', 2),\n",
       " ('message', 2),\n",
       " ('lately', 2),\n",
       " ('worker', 2),\n",
       " ('money', 2),\n",
       " ('work', 2),\n",
       " (' ', 2),\n",
       " ('game', 2),\n",
       " ('like', 2),\n",
       " ('tool', 2),\n",
       " ('handle', 2),\n",
       " ('feel', 2),\n",
       " ('happen', 1),\n",
       " ('doubt', 1),\n",
       " (\"thatwe'll\", 1),\n",
       " ('come', 1)]"
      ]
     },
     "execution_count": 15,
     "metadata": {},
     "output_type": "execute_result"
    }
   ],
   "source": [
    "# the words that most frequently occur near the phrase “mental health”:\n",
    "from spacy.matcher import PhraseMatcher\n",
    "mental_health_colloc = []\n",
    "matcher = PhraseMatcher(nlp.vocab, attr = 'LOWER') \n",
    "# The attr above ensures all instances are converted to lower-case so the search is case-insensitive\n",
    "pattern = [nlp.make_doc('mental health')]\n",
    "matcher.add('mentalHealth', pattern) \n",
    "matches = matcher(doc)\n",
    "for match_id, start, end in matches:\n",
    "    span = doc[start-10 : end+10]   \n",
    "    mental_health_colloc.extend([token.lemma_.lower() for token in span if not token.is_stop and not token.is_punct]) \n",
    "Counter(mental_health_colloc).most_common(20)"
   ]
  },
  {
   "cell_type": "code",
   "execution_count": null,
   "id": "5aed415c",
   "metadata": {},
   "outputs": [],
   "source": []
  }
 ],
 "metadata": {
  "kernelspec": {
   "display_name": "Python 3 (ipykernel)",
   "language": "python",
   "name": "python3"
  },
  "language_info": {
   "codemirror_mode": {
    "name": "ipython",
    "version": 3
   },
   "file_extension": ".py",
   "mimetype": "text/x-python",
   "name": "python",
   "nbconvert_exporter": "python",
   "pygments_lexer": "ipython3",
   "version": "3.8.5"
  }
 },
 "nbformat": 4,
 "nbformat_minor": 5
}
